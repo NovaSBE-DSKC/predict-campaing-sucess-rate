{
 "cells": [
  {
   "cell_type": "raw",
   "metadata": {},
   "source": [
    ".container { width:100% !important; }"
   ]
  },
  {
   "cell_type": "markdown",
   "metadata": {},
   "source": [
    "# PPL \n",
    "\n",
    "# Exploratory Data Analysis - Pledges\n",
    "\n",
    "<br>\n",
    "<hr>\n",
    "\n",
    "<h1 style=\"color:red\"> Index</h1>\n",
    "\n",
    "<br>\n",
    "\n",
    "### 0. Setup\n",
    "\n",
    "### 1. Clean\n",
    "\n",
    "### 2. Exploration\n",
    "\n",
    "### 3. Visualization\n",
    "\n",
    "\n",
    "<hr>\n",
    "<br><br><br>"
   ]
  },
  {
   "cell_type": "markdown",
   "metadata": {},
   "source": [
    "# 0. Setup"
   ]
  },
  {
   "cell_type": "code",
   "execution_count": null,
   "metadata": {},
   "outputs": [],
   "source": [
    "# set root folder (needed for imports)\n",
    "import os\n",
    "while not os.getcwd().endswith(\"ppl-model\"):\n",
    "    os.chdir(\"..\")\n",
    "\n",
    "# ignore warning on jupyter\n",
    "import warnings\n",
    "warnings.filterwarnings('ignore')\n",
    "\n",
    "\n",
    "# larger page width\n",
    "from IPython.core.display import display, HTML\n",
    "display(HTML(\"<style>.container { width:100% !important; }</style>\"))\n",
    "\n",
    "\n",
    "# detect changes on folders\n",
    "%load_ext autoreload\n",
    "%autoreload 2\n",
    "\n",
    "\n",
    "# my imports\n",
    "import settings\n",
    "from src.data_curation.datasets.pledges.clean import clean\n",
    "from dskc import dskc_clean\n",
    "from dskc import dskc_exploration \n",
    "from dskc import dskc_graphs\n",
    "\n",
    "\n",
    "# third party imports\n",
    "import pandas as pd"
   ]
  },
  {
   "cell_type": "markdown",
   "metadata": {},
   "source": [
    "<br><br>\n",
    "\n",
    "# 1. Clean \n"
   ]
  },
  {
   "cell_type": "code",
   "execution_count": null,
   "metadata": {},
   "outputs": [],
   "source": [
    "df = pd.read_csv(settings.DATASET_PLEDGES_PATH, index_col=0)\n",
    "#df = clean(df)\n",
    "df.head()"
   ]
  },
  {
   "cell_type": "markdown",
   "metadata": {},
   "source": [
    "<br><br>\n",
    "\n",
    "# 2. Exploration"
   ]
  },
  {
   "cell_type": "code",
   "execution_count": null,
   "metadata": {},
   "outputs": [],
   "source": [
    "dskc_exploration.basic_exploration(df)"
   ]
  },
  {
   "cell_type": "markdown",
   "metadata": {},
   "source": [
    "# 3. Visualization"
   ]
  },
  {
   "cell_type": "code",
   "execution_count": null,
   "metadata": {},
   "outputs": [],
   "source": [
    "dskc_graphs.all_graphs(df, gui=True)"
   ]
  }
 ],
 "metadata": {
  "kernelspec": {
   "display_name": "Python 3",
   "language": "python",
   "name": "python3"
  },
  "language_info": {
   "codemirror_mode": {
    "name": "ipython",
    "version": 3
   },
   "file_extension": ".py",
   "mimetype": "text/x-python",
   "name": "python",
   "nbconvert_exporter": "python",
   "pygments_lexer": "ipython3",
   "version": "3.7.6"
  }
 },
 "nbformat": 4,
 "nbformat_minor": 4
}
