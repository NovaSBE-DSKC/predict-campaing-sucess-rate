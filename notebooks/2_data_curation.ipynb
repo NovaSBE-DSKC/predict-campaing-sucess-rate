{
 "cells": [
  {
   "cell_type": "raw",
   "metadata": {},
   "source": [
    ".container { width:100% !important; }"
   ]
  },
  {
   "cell_type": "markdown",
   "metadata": {},
   "source": [
    "# PPL\n",
    "\n",
    "# Dataset Creation\n",
    "\n",
    "<br>\n",
    "<hr>\n",
    "\n",
    "<h1 style=\"color:red\"> Index</h1>\n",
    "<br>\n",
    "\n",
    "### 0. Setup\n",
    "\n",
    "### 1. Read and Divide\n",
    "\n",
    "### 2. Clean\n",
    "\n",
    "### 3. Exploration\n",
    "\n",
    "### 4. Visualization\n",
    "\n",
    "### 5. Dataset Creation (shortcut for all of the above)\n",
    "\n",
    "### 6. Import Data Created\n",
    "\n",
    "<hr>\n",
    "<br><br><br>\n"
   ]
  },
  {
   "cell_type": "markdown",
   "metadata": {},
   "source": [
    "# 0. Setup"
   ]
  },
  {
   "cell_type": "code",
   "execution_count": null,
   "metadata": {},
   "outputs": [],
   "source": [
    "# set root folder (needed for imports)\n",
    "import os\n",
    "while not os.getcwd().endswith(\"ppl-model\"):\n",
    "    os.chdir(\"..\")\n",
    "\n",
    "\n",
    "# larger page width\n",
    "from IPython.core.display import display, HTML\n",
    "display(HTML(\"<style>.container { width:100% !important; }</style>\"))\n",
    "\n",
    "\n",
    "# detect changes on folders\n",
    "%load_ext autoreload\n",
    "%autoreload 2\n",
    "\n",
    "\n",
    "# my imports\n",
    "import settings\n",
    "\n",
    "from src.data_curation.clean import clean, get_stop_words\n",
    "from src.data_curation.clean_model import clean_model\n",
    "from src.data_curation import datasets_creation\n",
    "\n",
    "# dskc\n",
    "from dskc import dskc_clean\n",
    "from dskc import dskc_exploration \n",
    "from dskc import dskc_graphs \n",
    "\n",
    "\n",
    "# third party imports\n",
    "import pandas as pd"
   ]
  },
  {
   "cell_type": "markdown",
   "metadata": {},
   "source": [
    "# 1. Read and Divide"
   ]
  },
  {
   "cell_type": "code",
   "execution_count": null,
   "metadata": {},
   "outputs": [],
   "source": [
    "df = pd.read_csv(settings.DATASET_PROJECTS_PATH, index_col=None)\n",
    "df = clean(df)\n",
    "train, test = dskc_clean.divide_in_train_test(df, \"FINANCED\", shuffle=True)\n"
   ]
  },
  {
   "cell_type": "markdown",
   "metadata": {},
   "source": [
    "<br>\n",
    "\n",
    "# 2. Clean"
   ]
  },
  {
   "cell_type": "code",
   "execution_count": null,
   "metadata": {},
   "outputs": [],
   "source": [
    "train = clean_model(train, normalize=False)"
   ]
  },
  {
   "cell_type": "code",
   "execution_count": null,
   "metadata": {},
   "outputs": [],
   "source": [
    "train[train[\"financed\"]==1].tail(100).iloc[20:25]"
   ]
  },
  {
   "cell_type": "code",
   "execution_count": null,
   "metadata": {},
   "outputs": [],
   "source": [
    "train.describe()"
   ]
  },
  {
   "cell_type": "markdown",
   "metadata": {},
   "source": [
    "<br>\n",
    "\n",
    "# 3. Exploration"
   ]
  },
  {
   "cell_type": "code",
   "execution_count": null,
   "metadata": {
    "scrolled": true
   },
   "outputs": [],
   "source": [
    "dskc_exploration.basic_exploration(train)"
   ]
  },
  {
   "cell_type": "markdown",
   "metadata": {},
   "source": [
    "<br>\n",
    "\n",
    "# 4. Visualization"
   ]
  },
  {
   "cell_type": "code",
   "execution_count": null,
   "metadata": {},
   "outputs": [],
   "source": [
    "df = pd.read_csv(settings.DATASET_PROJECTS_PATH)\n",
    "df = clean(df)\n",
    "df = clean_model(df,normalize=False,mantain_id=True)\n",
    "\n",
    "df[\"days_to_end\"]=df[\"days\"]-df[\"days_elapsed\"]\n"
   ]
  },
  {
   "cell_type": "code",
   "execution_count": null,
   "metadata": {},
   "outputs": [],
   "source": [
    "dskc_graphs.all_graphs(df, target=\"financed\", gui=True)"
   ]
  },
  {
   "cell_type": "code",
   "execution_count": null,
   "metadata": {},
   "outputs": [],
   "source": [
    "dskc_graphs.target_by_value(df, \"backers\", \"financed\",\"pid\", no_outliers=True)"
   ]
  },
  {
   "cell_type": "code",
   "execution_count": null,
   "metadata": {},
   "outputs": [],
   "source": [
    "dskc_graphs.target_by_value(df, \"days_to_end\", \"financed\",\"pid\",xrange=[0,75],xlabel=\"days to end\")"
   ]
  },
  {
   "cell_type": "code",
   "execution_count": null,
   "metadata": {},
   "outputs": [],
   "source": [
    "dskc_graphs.target_by_value(df, \"percentage_days_elapsed\", \"financed\",\"pid\",xrange=[0,1],jump=0.1)"
   ]
  },
  {
   "cell_type": "code",
   "execution_count": null,
   "metadata": {},
   "outputs": [],
   "source": [
    "dskc_graphs.target_by_value(df, \"percentage_raised\", \"financed\",\"pid\",xrange=[0,1],jump=0.03,xlabel=\"Percentage raised\")"
   ]
  },
  {
   "cell_type": "markdown",
   "metadata": {},
   "source": [
    "<br><br>\n",
    "# 5. Datasets Creation (shortcut for all of the above)"
   ]
  },
  {
   "cell_type": "code",
   "execution_count": null,
   "metadata": {},
   "outputs": [],
   "source": [
    "datasets_creation.create_train_test_dataset()"
   ]
  },
  {
   "cell_type": "markdown",
   "metadata": {},
   "source": [
    "<br>\n",
    "\n",
    "# 6. Import Data Created "
   ]
  },
  {
   "cell_type": "code",
   "execution_count": null,
   "metadata": {},
   "outputs": [],
   "source": [
    "from src.modeling import util\n",
    "from dskc import dskc_terminal\n",
    "\n",
    "x_train, y_train, feature_names = util.read_train_data()\n",
    "\n",
    "print(\"Train data: \")\n",
    "print(\"X: {}\".format(x_train.shape))\n",
    "print(\"Y: {}\".format(y_train.shape))\n",
    "\n",
    "x_test, y_test, feature_names = util.read_test_data()\n",
    "\n",
    "print(\"\\nTest data: \")\n",
    "print(\"X: {}\".format(x_test.shape))\n",
    "print(\"Y: {}\".format(y_test.shape))\n",
    "\n"
   ]
  },
  {
   "cell_type": "code",
   "execution_count": null,
   "metadata": {},
   "outputs": [],
   "source": []
  }
 ],
 "metadata": {
  "kernelspec": {
   "display_name": "Python 3",
   "language": "python",
   "name": "python3"
  },
  "language_info": {
   "codemirror_mode": {
    "name": "ipython",
    "version": 3
   },
   "file_extension": ".py",
   "mimetype": "text/x-python",
   "name": "python",
   "nbconvert_exporter": "python",
   "pygments_lexer": "ipython3",
   "version": "3.7.6"
  }
 },
 "nbformat": 4,
 "nbformat_minor": 4
}
